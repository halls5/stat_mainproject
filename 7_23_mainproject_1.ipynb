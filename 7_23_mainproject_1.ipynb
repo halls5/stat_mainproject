{
 "cells": [
  {
   "cell_type": "code",
   "execution_count": 8,
   "id": "fc609fa4",
   "metadata": {},
   "outputs": [],
   "source": [
    "import pandas as pd\n",
    "import numpy as np\n",
    "\n",
    "import seaborn as sns\n",
    "from sklearn.linear_model import LinearRegression\n",
    "from sklearn.metrics import r2_score\n",
    "from scipy import stats\n",
    "\n",
    "import warnings\n",
    "warnings.filterwarnings('ignore')\n",
    "\n",
    "import matplotlib.pyplot as plt\n",
    "\n",
    "# 한글 폰트 설정\n",
    "plt.rc('font', family='Malgun Gothic')  # 윈도우용\n"
   ]
  },
  {
   "cell_type": "markdown",
   "id": "1ce7b979",
   "metadata": {},
   "source": [
    "## 📋 미션 1: A/B 테스트 신뢰구간 분석 🧪\n",
    "\n",
    "### 🎯 학습 목표\n",
    "\n",
    "지금까지 배운 모든 개념을 종합하여 실제 비즈니스 문제에 적용해보기\n",
    "\n",
    "### 📖 배경 스토리\n",
    "\n",
    "여러분은 온라인 쇼핑몰의 데이터 분석가입니다! 🛒\n",
    "\n",
    "- **기존 웹사이트(A)**: 파란색 구매 버튼\n",
    "- **새로운 웹사이트(B)**: 빨간색 구매 버튼\n",
    "\n",
    "경영진이 묻습니다: \"빨간색 버튼이 정말 더 좋은가요? 확실한 증거가 있나요?\" 📊"
   ]
  },
  {
   "cell_type": "code",
   "execution_count": 3,
   "id": "0a395442",
   "metadata": {},
   "outputs": [
    {
     "name": "stdout",
     "output_type": "stream",
     "text": [
      "🧪 A/B 테스트 데이터\n",
      "A그룹 사용자 수: 500명\n",
      "B그룹 사용자 수: 500명\n",
      "\n",
      "그룹별 전환율:\n",
      "       총_사용자수  전환_사용자수    전환율\n",
      "group                        \n",
      "A         500       60  0.120\n",
      "B         500       56  0.112\n"
     ]
    }
   ],
   "source": [
    "# A/B 테스트 데이터 생성\n",
    "np.random.seed(404)\n",
    "\n",
    "# A그룹 (기존 디자인): 전환율 12%\n",
    "n_a = 500\n",
    "conversion_rate_a = 0.12\n",
    "conversions_a = np.random.binomial(1, conversion_rate_a, n_a)\n",
    "\n",
    "# B그룹 (새 디자인): 전환율 15%\n",
    "n_b = 500\n",
    "conversion_rate_b = 0.15\n",
    "conversions_b = np.random.binomial(1, conversion_rate_b, n_b)\n",
    "\n",
    "# 데이터프레임 생성\n",
    "ab_test_data = pd.DataFrame({\n",
    "    'group': ['A']*n_a + ['B']*n_b,\n",
    "    'user_id': range(1, n_a + n_b + 1),\n",
    "    'converted': np.concatenate([conversions_a, conversions_b])\n",
    "})\n",
    "\n",
    "print(\"🧪 A/B 테스트 데이터\")\n",
    "print(f\"A그룹 사용자 수: {n_a}명\")\n",
    "print(f\"B그룹 사용자 수: {n_b}명\")\n",
    "print(\"\\n그룹별 전환율:\")\n",
    "conversion_summary = ab_test_data.groupby('group')['converted'].agg(['count', 'sum', 'mean'])\n",
    "conversion_summary.columns = ['총_사용자수', '전환_사용자수', '전환율']\n",
    "print(conversion_summary)\n"
   ]
  },
  {
   "cell_type": "markdown",
   "id": "70789678",
   "metadata": {},
   "source": [
    "### ✅ **문제 1-1: 기본 통계량 계산하기** 🎯\n",
    "\n",
    "**🤔 해야할 일:** A그룹과 B그룹의 전환율과 표준오차를 계산해보세요."
   ]
  },
  {
   "cell_type": "code",
   "execution_count": 4,
   "id": "ddb44bb2",
   "metadata": {},
   "outputs": [
    {
     "name": "stdout",
     "output_type": "stream",
     "text": [
      "A그룹 전환율: 0.120 ± 0.015\n",
      "B그룹 전환율: 0.112 ± 0.014\n"
     ]
    }
   ],
   "source": [
    "\n",
    "# TODO: p_a 계산하기 (A그룹 전환율)\n",
    "\n",
    "p_a = conversions_a.mean()\n",
    "\n",
    "# TODO: p_b 계산하기 (B그룹 전환율)\n",
    "p_b = conversions_b.mean()\n",
    "\n",
    "# TODO: A그룹 표준오차 계산하기\n",
    "# 힌트: 비율의 표준오차 공식은 sqrt(p(1-p)/n)\n",
    "se_a = np.sqrt(p_a*(1-p_a)/n_a)\n",
    "\n",
    "# TODO: B그룹 표준오차 계산하기\n",
    "se_b = np.sqrt(p_b*(1-p_b)/n_b)\n",
    "\n",
    "print(f\"A그룹 전환율: {p_a:.3f} ± {se_a:.3f}\")\n",
    "print(f\"B그룹 전환율: {p_b:.3f} ± {se_b:.3f}\")\n"
   ]
  },
  {
   "cell_type": "markdown",
   "id": "5eab14e4",
   "metadata": {},
   "source": [
    "### ✅ **문제 1-2: A그룹 신뢰구간 계산하기** 🎯\n",
    "\n",
    "**🤔 해야할 일:** A그룹의 95% 신뢰구간을 계산해보세요."
   ]
  },
  {
   "cell_type": "code",
   "execution_count": 5,
   "id": "95584bf2",
   "metadata": {},
   "outputs": [
    {
     "name": "stdout",
     "output_type": "stream",
     "text": [
      "A그룹 95% 신뢰구간: [0.092, 0.148]\n"
     ]
    }
   ],
   "source": [
    "# TODO: 95% 신뢰구간용 z값 설정\n",
    "\n",
    "z_score = 1.96 # 1.96을 사용하세요\n",
    "\n",
    "# TODO: A그룹 신뢰구간 하한 계산\n",
    "ci_a_lower = p_a - z_score * se_a\n",
    "\n",
    "# TODO: A그룹 신뢰구간 상한 계산\n",
    "ci_a_upper = p_a + z_score * se_a\n",
    "\n",
    "print(f\"A그룹 95% 신뢰구간: [{ci_a_lower:.3f}, {ci_a_upper:.3f}]\")\n"
   ]
  },
  {
   "cell_type": "markdown",
   "id": "d5a8ad58",
   "metadata": {},
   "source": [
    "### ✅ **문제 1-3: B그룹 신뢰구간 계산하기** 🎯\n",
    "\n",
    "**🤔 해야할 일:** B그룹의 95% 신뢰구간을 계산해보세요."
   ]
  },
  {
   "cell_type": "code",
   "execution_count": 6,
   "id": "31cfcb95",
   "metadata": {},
   "outputs": [
    {
     "name": "stdout",
     "output_type": "stream",
     "text": [
      "B그룹 95% 신뢰구간: [0.084, 0.140]\n"
     ]
    }
   ],
   "source": [
    "# TODO: B그룹 신뢰구간 하한 계산\n",
    "ci_b_lower = p_b - z_score * se_b\n",
    "\n",
    "# TODO: B그룹 신뢰구간 상한 계산\n",
    "ci_b_upper = p_b + z_score * se_b\n",
    "\n",
    "print(f\"B그룹 95% 신뢰구간: [{ci_b_lower:.3f}, {ci_b_upper:.3f}]\")\n"
   ]
  },
  {
   "cell_type": "markdown",
   "id": "a8d3b6e2",
   "metadata": {},
   "source": [
    "### ✅ **문제 1-4: 그룹별 신뢰구간 시각화하기** 📊\n",
    "\n",
    "**🤔 해야할 일:** 막대그래프로 두 그룹의 전환율과 신뢰구간을 그려보세요."
   ]
  },
  {
   "cell_type": "code",
   "execution_count": 9,
   "id": "bd80e3c1",
   "metadata": {},
   "outputs": [
    {
     "data": {
      "image/png": "[encoded data removed]",
      "text/plain": [
       "<Figure size 1000x600 with 1 Axes>"
      ]
     },
     "metadata": {},
     "output_type": "display_data"
    }
   ],
   "source": [
    "# TODO: 그래프 그리기\n",
    "plt.figure(figsize=(10, 6))\n",
    "\n",
    "# TODO: 그룹명과 전환율 리스트 만들기\n",
    "groups = ['A그룹', 'B그룹']\n",
    "rates = [p_a, p_b]\n",
    "\n",
    "# TODO: 오차막대 크기 계산 (z_score * 표준오차)\n",
    "errors = z_score * se_a, z_score * se_b\n",
    "\n",
    "# TODO: 막대그래프 그리기\n",
    "# 힌트: plt.bar(x, height, yerr=오차막대, capsize=10, alpha=0.7)\n",
    "plt.bar(groups, rates, yerr=errors, capsize=10, alpha=0.7 )  # 빈칸을 채우세요\n",
    "\n",
    "plt.ylabel('전환율')\n",
    "plt.title('그룹별 전환율과 95% 신뢰구간')\n",
    "plt.show()\n"
   ]
  },
  {
   "cell_type": "markdown",
   "id": "e522af1c",
   "metadata": {},
   "source": [
    "### ✅ **문제 1-5: 전환율 차이 계산하기** 📊\n",
    "\n",
    "**🤔 해야할 일:** B그룹이 A그룹보다 얼마나 더 좋은지 계산해보세요."
   ]
  },
  {
   "cell_type": "code",
   "execution_count": 11,
   "id": "7b6ca774",
   "metadata": {},
   "outputs": [
    {
     "name": "stdout",
     "output_type": "stream",
     "text": [
      "전환율 차이 (B-A): -0.008\n",
      "차이의 표준오차: 0.020\n"
     ]
    }
   ],
   "source": [
    "# TODO: 전환율 차이 계산 (B - A)\n",
    "diff = p_b - p_a\n",
    "\n",
    "# TODO: 차이의 표준오차 계산\n",
    "# 힌트: 두 독립 비율 차이의 표준오차는 sqrt(se_a^2 + se_b^2)\n",
    "se_diff = np.sqrt(se_a*se_a + se_b*se_b)\n",
    "\n",
    "print(f\"전환율 차이 (B-A): {diff:.3f}\")\n",
    "print(f\"차이의 표준오차: {se_diff:.3f}\")\n"
   ]
  },
  {
   "cell_type": "markdown",
   "id": "e4ee08ac",
   "metadata": {},
   "source": [
    "### ✅ **문제 1-6: 차이의 신뢰구간 계산하기** 🎯\n",
    "\n",
    "**🤔 해야할 일:** 전환율 차이의 95% 신뢰구간을 계산해보세요."
   ]
  },
  {
   "cell_type": "code",
   "execution_count": null,
   "id": "239aab30",
   "metadata": {},
   "outputs": [
    {
     "name": "stdout",
     "output_type": "stream",
     "text": [
      "전환율 차이의 95% 신뢰구간: [-0.048, 0.032]\n",
      "🤔 확실하지 않습니다.\n"
     ]
    }
   ],
   "source": [
    "# TODO: 차이의 신뢰구간 하한 계산\n",
    "ci_diff_lower = diff - 1.96 * se_diff\n",
    "\n",
    "# TODO: 차이의 신뢰구간 상한 계산\n",
    "ci_diff_upper = diff + 1.96 * se_diff\n",
    "\n",
    "print(f\"전환율 차이의 95% 신뢰구간: [{ci_diff_lower:.3f}, {ci_diff_upper:.3f}]\")\n",
    "\n",
    "# TODO: 0이 포함되는지 확인하기\n",
    "if ci_diff_lower > 0:\n",
    "    print(\"🎉 B가 A보다 확실히 좋습니다!\")\n",
    "elif ci_diff_upper < 0:\n",
    "    print(\"😢 A가 B보다 확실히 좋습니다.\")\n",
    "else:\n",
    "    print(\"🤔 확실하지 않습니다.\")\n",
    "\n",
    "# 해석논리\n",
    "\n",
    "# 신뢰구간이 0보다 크면:\n",
    "# → B가 유의미하게 더 좋음 (양의 차이가 유의미)\n",
    "\n",
    "# 신뢰구간이 0보다 작으면:\n",
    "# → A가 더 좋음\n",
    "\n",
    "# 0을 포함하면:\n",
    "# → 차이가 통계적으로 유의하지 않음\n",
    "# (즉, 우연일 가능성도 있음)\n",
    "\n",
    "\n"
   ]
  },
  {
   "cell_type": "code",
   "execution_count": null,
   "id": "2d357b85",
   "metadata": {},
   "outputs": [
    {
     "name": "stdout",
     "output_type": "stream",
     "text": [
      "p_value: 0.04999579029644097\n",
      "✅ 통계적으로 유의한 차이 있음 (전환율 차이 유효)\n"
     ]
    }
   ],
   "source": [
    "# +  p-value (양측 검정)\n",
    "p_value = 2 * (1 - stats.norm.cdf(abs(z_score)))\n",
    "print(f'p_value: {p_value}')\n",
    "\n",
    "# 해석\n",
    "alpha = 0.05\n",
    "if p_value < alpha:\n",
    "    print(\"✅ 통계적으로 유의한 차이 있음 (전환율 차이 유효)\")\n",
    "else:\n",
    "    print(\"🤔 유의한 차이라고 보기 어려움 (우연일 가능성 있음)\")"
   ]
  },
  {
   "cell_type": "markdown",
   "id": "faf1040c",
   "metadata": {},
   "source": [
    "### ✅ **문제 1-7: 경영진 보고서 작성하기** 💼\n",
    "\n",
    "**🤔 해야할 일:** 분석 결과를 정리해서 보고서를 만들어보세요."
   ]
  },
  {
   "cell_type": "code",
   "execution_count": 17,
   "id": "2fcdcf31",
   "metadata": {},
   "outputs": [
    {
     "name": "stdout",
     "output_type": "stream",
     "text": [
      "📋 경영진 보고서\n",
      "==================================================\n",
      "🔍 분석 결과:\n",
      "   • A그룹 전환율: 12.0%\n",
      "   • B그룹 전환율: 11.2%\n",
      "   • 개선 효과: -0.8%p\n",
      "\n",
      "📊 통계적 신뢰도:\n",
      "   • 개선 효과 범위: -4.8%p ~ 3.2%p\n",
      "\n",
      "💡 의사결정:\n",
      "   ❌ 추가 데이터 수집이 필요합니다.\n"
     ]
    }
   ],
   "source": [
    "# TODO: 보고서 완성하기\n",
    "print(\"📋 경영진 보고서\")\n",
    "print(\"=\"*50)\n",
    "print(f\"🔍 분석 결과:\")\n",
    "print(f\"   • A그룹 전환율: {p_a:.1%}\")\n",
    "print(f\"   • B그룹 전환율: {p_b:.1%}\")\n",
    "print(f\"   • 개선 효과: {diff:.1%}p\")\n",
    "print()\n",
    "print(f\"📊 통계적 신뢰도:\")\n",
    "print(f\"   • 개선 효과 범위: {ci_diff_lower:.1%}p ~ {ci_diff_upper:.1%}p\")\n",
    "print()\n",
    "print(\"💡 의사결정:\")\n",
    "\n",
    "# TODO: if문을 사용해서 권장사항 작성하기\n",
    "# 힌트: ci_diff_lower > 0이면 새 디자인 도입 권장\n",
    "if ci_diff_lower > 0: # 조건을 작성하세요:\n",
    "    print(\"   ✅ 새 디자인(B) 도입을 권장합니다!\")\n",
    "else:\n",
    "    print(\"   ❌ 추가 데이터 수집이 필요합니다.\")\n"
   ]
  },
  {
   "cell_type": "code",
   "execution_count": null,
   "id": "3c7c7090",
   "metadata": {},
   "outputs": [],
   "source": []
  }
 ],
 "metadata": {
  "kernelspec": {
   "display_name": "base",
   "language": "python",
   "name": "python3"
  },
  "language_info": {
   "codemirror_mode": {
    "name": "ipython",
    "version": 3
   },
   "file_extension": ".py",
   "mimetype": "text/x-python",
   "name": "python",
   "nbconvert_exporter": "python",
   "pygments_lexer": "ipython3",
   "version": "3.11.7"
  }
 },
 "nbformat": 4,
 "nbformat_minor": 5
}
