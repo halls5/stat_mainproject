{
 "cells": [
  {
   "cell_type": "code",
   "execution_count": 1,
   "id": "49c9f2a7",
   "metadata": {},
   "outputs": [],
   "source": [
    "import pandas as pd\n",
    "import numpy as np\n",
    "\n",
    "import seaborn as sns\n",
    "from sklearn.linear_model import LinearRegression\n",
    "from sklearn.metrics import r2_score\n",
    "from scipy import stats\n",
    "\n",
    "import warnings\n",
    "warnings.filterwarnings('ignore')\n",
    "\n",
    "import matplotlib.pyplot as plt\n",
    "\n",
    "# 한글 폰트 설정\n",
    "plt.rc('font', family='Malgun Gothic')  # 윈도우용\n"
   ]
  },
  {
   "cell_type": "markdown",
   "id": "d8999477",
   "metadata": {},
   "source": [
    "## 📋 미션 2: 연령대별 구매 분석 (t-검정 마스터하기!) 👥\n",
    "\n",
    "### 🎯 학습 목표\n",
    "\n",
    "t-검정의 다양한 종류를 실전에서 완벽하게 활용하기\n",
    "\n",
    "### 📖 배경 스토리\n",
    "\n",
    "온라인 쇼핑몰에서 \"연령대에 따라 구매 패턴이 다를까?\" 하는 궁금증이 생겼습니다."
   ]
  },
  {
   "cell_type": "code",
   "execution_count": 6,
   "id": "b1fb9651",
   "metadata": {},
   "outputs": [
    {
     "name": "stdout",
     "output_type": "stream",
     "text": [
      "📊 구매 데이터 미리보기\n",
      "연령 범위: 20세 ~ 59세\n",
      "구매금액 범위: 39만원 ~ 208만원\n",
      "평균 구매금액: 130.1만원\n"
     ]
    }
   ],
   "source": [
    "# 온라인 쇼핑몰의 구매 데이터\n",
    "np.random.seed(789)\n",
    "ages = np.random.randint(20, 60, 100)\n",
    "purchase_amounts = 50 + 2*ages + np.random.normal(0, 20, 100)\n",
    "\n",
    "print(\"📊 구매 데이터 미리보기\")\n",
    "print(f\"연령 범위: {ages.min()}세 ~ {ages.max()}세\")\n",
    "print(f\"구매금액 범위: {purchase_amounts.min():.0f}만원 ~ {purchase_amounts.max():.0f}만원\")\n",
    "print(f\"평균 구매금액: {purchase_amounts.mean():.1f}만원\")\n"
   ]
  },
  {
   "cell_type": "markdown",
   "id": "146b9c17",
   "metadata": {},
   "source": [
    "### ✅ **문제 2-1: 기본 통계량 계산하기** 🎯\n",
    "\n",
    "**🤔 해야할 일:** 일표본 t-검정을 위한 기본 통계량을 계산해보세요."
   ]
  },
  {
   "cell_type": "code",
   "execution_count": 7,
   "id": "6146768a",
   "metadata": {},
   "outputs": [
    {
     "name": "stdout",
     "output_type": "stream",
     "text": [
      "표본 평균: 130.09만원\n",
      "표본 표준편차: 33.90만원\n",
      "표본 크기: 100명\n",
      "비교 기준값: 150만원\n"
     ]
    }
   ],
   "source": [
    "# TODO: 표본 평균 계산\n",
    "sample_mean = purchase_amounts.mean()\n",
    "\n",
    "# TODO: 표본 표준편차 계산\n",
    "sample_std = purchase_amounts.std(ddof=1) \n",
    "\n",
    "# TODO: 표본 크기 계산\n",
    "n =  len(purchase_amounts)\n",
    "\n",
    "# TODO: 비교할 기준값 설정 (업계 기준 150만원)\n",
    "standard_value = 150\n",
    "\n",
    "print(f\"표본 평균: {sample_mean:.2f}만원\")\n",
    "print(f\"표본 표준편차: {sample_std:.2f}만원\")\n",
    "print(f\"표본 크기: {n}명\")\n",
    "print(f\"비교 기준값: {standard_value}만원\")\n"
   ]
  },
  {
   "cell_type": "markdown",
   "id": "35a43e6e",
   "metadata": {},
   "source": [
    "### ✅ **문제 2-2: t-통계량 직접 계산하기** 🧮\n",
    "\n",
    "**🤔 해야할 일:** t-검정의 t값을 직접 계산해보세요."
   ]
  },
  {
   "cell_type": "code",
   "execution_count": 8,
   "id": "dc081de3",
   "metadata": {},
   "outputs": [
    {
     "name": "stdout",
     "output_type": "stream",
     "text": [
      "직접 계산한 t-통계량: -5.874\n",
      "scipy로 계산한 t-통계량: -5.874\n",
      "p-value: 0.0000\n"
     ]
    }
   ],
   "source": [
    "# TODO: t-통계량 공식 사용하기\n",
    "# 힌트: t = (표본평균 - 기준값) / (표준편차 / sqrt(n))\n",
    "t_stat = (sample_mean - standard_value) / (sample_std/np.sqrt(n))\n",
    "\n",
    "print(f\"직접 계산한 t-통계량: {t_stat:.3f}\")\n",
    "\n",
    "# 비교를 위해 scipy로도 계산해보기\n",
    "from scipy.stats import ttest_1samp\n",
    "t_stat_scipy, p_value = ttest_1samp(purchase_amounts, standard_value)\n",
    "print(f\"scipy로 계산한 t-통계량: {t_stat_scipy:.3f}\")\n",
    "print(f\"p-value: {p_value:.4f}\")\n"
   ]
  },
  {
   "cell_type": "markdown",
   "id": "eb2a862d",
   "metadata": {},
   "source": [
    "✅ t-통계량 -5.874\n",
    "t-값이 음수라는 건,\n",
    "현재 표본평균이 기준값보다 작다는 뜻이에요.\n",
    "\n",
    "t의 절댓값이 클수록 기준값과 멀리 떨어져 있음을 의미합니다.\n",
    "\n",
    "-5.874는 상당히 멀다는 뜻이에요 → 강한 증거!\n",
    "\n",
    "✅ p-value 0.0000 (실제론 0.00000... 아주 작음)\n",
    "이건 \"이런 차이가 우연히 발생할 확률\"을 말해요.\n",
    "\n",
    "p < 0.05니까 → 우리는 통계적으로 유의미한 차이라고 말할 수 있어요."
   ]
  },
  {
   "cell_type": "markdown",
   "id": "00ce7a5e",
   "metadata": {},
   "source": [
    "### ✅ **문제 2-3: 결과 해석하기** 🎯\n",
    "\n",
    "**🤔 해야할 일:** p-value를 보고 결과를 해석해보세요."
   ]
  },
  {
   "cell_type": "code",
   "execution_count": 9,
   "id": "63129e22",
   "metadata": {},
   "outputs": [
    {
     "name": "stdout",
     "output_type": "stream",
     "text": [
      "🎯 결과 해석\n",
      "✅ p-value (0.0000) < α (0.05)\n",
      "→ 귀무가설 기각! 업계 기준과 유의하게 다릅니다.\n",
      "→ 우리 고객들이 업계 평균보다 적게 구매합니다. 😅\n"
     ]
    }
   ],
   "source": [
    "# TODO: 유의수준 설정\n",
    "alpha = 0.05\n",
    "\n",
    "print(\"🎯 결과 해석\")\n",
    "\n",
    "# TODO: p-value와 alpha 비교하기\n",
    "if p_value < alpha:\n",
    "    print(f\"✅ p-value ({p_value:.4f}) < α ({alpha})\")\n",
    "    print(\"→ 귀무가설 기각! 업계 기준과 유의하게 다릅니다.\")\n",
    "\n",
    "    # TODO: 평균이 더 큰지 작은지 확인하기\n",
    "    if sample_mean > standard_value:\n",
    "        print(\"→ 우리 고객들이 업계 평균보다 더 많이 구매합니다! 🎉\")\n",
    "    else:\n",
    "        print(\"→ 우리 고객들이 업계 평균보다 적게 구매합니다. 😅\")\n",
    "else:\n",
    "    print(f\"❌ p-value ({p_value:.4f}) ≥ α ({alpha})\")\n",
    "    print(\"→ 업계 기준과 유의한 차이가 없습니다.\")\n"
   ]
  },
  {
   "cell_type": "markdown",
   "id": "003b21ae",
   "metadata": {},
   "source": [
    "### ✅ **문제 2-4: 연령대별 그룹 나누기** 👥\n",
    "\n",
    "**🤔 해야할 일:** 독립표본 t-검정을 위해 데이터를 두 그룹으로 나누세요."
   ]
  },
  {
   "cell_type": "code",
   "execution_count": 10,
   "id": "f04b88fc",
   "metadata": {},
   "outputs": [
    {
     "name": "stdout",
     "output_type": "stream",
     "text": [
      "👥 그룹 나누기 결과\n",
      "젊은층 (20-39세): 47명\n",
      "중년층 (40-59세): 53명\n"
     ]
    }
   ],
   "source": [
    "# TODO: 젊은층 데이터 필터링 (20-39세)\n",
    "young_mask = (ages >= 20) & (ages <= 39) \n",
    "group1_purchases = purchase_amounts[young_mask]\n",
    "\n",
    "# TODO: 중년층 데이터 필터링 (40-59세)\n",
    "middle_mask = (ages >= 40) & (ages <= 59)\n",
    "group2_purchases = purchase_amounts[middle_mask]\n",
    "\n",
    "print(\"👥 그룹 나누기 결과\")\n",
    "print(f\"젊은층 (20-39세): {len(group1_purchases)}명\")\n",
    "print(f\"중년층 (40-59세): {len(group2_purchases)}명\")\n"
   ]
  },
  {
   "cell_type": "markdown",
   "id": "972ad09c",
   "metadata": {},
   "source": [
    "### ✅ **문제 2-5: 그룹별 기술통계 계산하기** 📊\n",
    "\n",
    "**🤔 해야할 일:** 각 그룹의 평균과 표준편차를 계산해보세요."
   ]
  },
  {
   "cell_type": "code",
   "execution_count": 13,
   "id": "4ee97c93",
   "metadata": {},
   "outputs": [
    {
     "name": "stdout",
     "output_type": "stream",
     "text": [
      "📊 그룹별 기술통계\n",
      "젊은층 평균: 106.4만원 (표준편차: 25.0)\n",
      "중년층 평균: 151.1만원 (표준편차: 25.6)\n",
      "평균 차이: 44.6만원\n"
     ]
    }
   ],
   "source": [
    "# TODO: 각 그룹의 평균 계산\n",
    "group1_mean = group1_purchases.mean()\n",
    "group2_mean = group2_purchases.mean()\n",
    "\n",
    "# TODO: 각 그룹의 표준편차 계산\n",
    "group1_std = group1_purchases.std()\n",
    "group2_std = group2_purchases.std()\n",
    "\n",
    "print(\"📊 그룹별 기술통계\")\n",
    "print(f\"젊은층 평균: {group1_mean:.1f}만원 (표준편차: {group1_std:.1f})\")\n",
    "print(f\"중년층 평균: {group2_mean:.1f}만원 (표준편차: {group2_std:.1f})\")\n",
    "\n",
    "# TODO: 평균 차이 계산\n",
    "diff = group2_mean - group1_mean\n",
    "print(f\"평균 차이: {diff:.1f}만원\")\n"
   ]
  },
  {
   "cell_type": "markdown",
   "id": "b3838231",
   "metadata": {},
   "source": [
    "### ✅ **문제 2-6: 독립표본 t-검정 실행하기** 🧪\n",
    "\n",
    "**🤔 해야할 일:** 두 그룹 간의 차이를 t-검정으로 확인해보세요."
   ]
  },
  {
   "cell_type": "code",
   "execution_count": 15,
   "id": "9bc2aa6d",
   "metadata": {},
   "outputs": [
    {
     "name": "stdout",
     "output_type": "stream",
     "text": [
      "🧮 t-검정 결과\n",
      "t-통계량: -8.709\n",
      "p-value: 0.0000\n",
      "🎯 비즈니스 해석\n",
      "✅ 통계적으로 유의한 차이가 있습니다!\n",
      "→ 중년층이 젊은층보다 더 많이 구매합니다!\n"
     ]
    }
   ],
   "source": [
    "from scipy.stats import ttest_ind\n",
    "\n",
    "# TODO: 독립표본 t-검정 실행\n",
    "t_stat, p_value = ttest_ind(group1_purchases, group2_purchases)\n",
    "\n",
    "print(\"🧮 t-검정 결과\")\n",
    "print(f\"t-통계량: {t_stat:.3f}\")\n",
    "print(f\"p-value: {p_value:.4f}\")\n",
    "\n",
    "# TODO: 결과 해석하기\n",
    "alpha = 0.05\n",
    "print(\"🎯 비즈니스 해석\")\n",
    "\n",
    "if p_value < alpha:\n",
    "    print(\"✅ 통계적으로 유의한 차이가 있습니다!\")\n",
    "\n",
    "    if group2_mean > group1_mean :\n",
    "        print(\"→ 중년층이 젊은층보다 더 많이 구매합니다!\")\n",
    "    else:\n",
    "        print(\"→ 젊은층이 중년층보다 더 많이 구매합니다!\")\n",
    "else:\n",
    "    print(\"❌ 통계적으로 유의한 차이가 없습니다.\")\n"
   ]
  },
  {
   "cell_type": "markdown",
   "id": "6f0a46b4",
   "metadata": {},
   "source": [
    "### ✅ **문제 2-7: 등분산성 검정하기** 🔍\n",
    "\n",
    "**🤔 해야할 일:** 두 그룹의 분산이 같은지 확인해보세요."
   ]
  },
  {
   "cell_type": "code",
   "execution_count": 16,
   "id": "8bbeb7b7",
   "metadata": {},
   "outputs": [
    {
     "name": "stdout",
     "output_type": "stream",
     "text": [
      "📊 분산 비교\n",
      "젊은층 분산: 637.1\n",
      "중년층 분산: 669.5\n",
      "🧪 Levene 등분산성 검정\n",
      "p-value: 0.8106\n",
      "✅ 등분산성 가정 만족\n"
     ]
    }
   ],
   "source": [
    "from scipy.stats import levene\n",
    "\n",
    "# TODO: 분산 직접 비교하기\n",
    "var1 = group1_purchases.var(ddof=1)\n",
    "var2 = group2_purchases.var(ddof=1)\n",
    "\n",
    "print(\"📊 분산 비교\")\n",
    "print(f\"젊은층 분산: {var1:.1f}\")\n",
    "print(f\"중년층 분산: {var2:.1f}\")\n",
    "\n",
    "# TODO: Levene 검정 실행하기\n",
    "levene_stat, levene_p = levene(group1_purchases, group2_purchases)\n",
    "\n",
    "print(\"🧪 Levene 등분산성 검정\")\n",
    "print(f\"p-value: {levene_p:.4f}\")\n",
    "\n",
    "# TODO: 등분산성 판단하기\n",
    "if levene_p >= 0.05 :\n",
    "    print(\"✅ 등분산성 가정 만족\")\n",
    "else:\n",
    "    print(\"❌ 등분산성 가정 위배\")\n"
   ]
  },
  {
   "cell_type": "code",
   "execution_count": null,
   "id": "1b6a876f",
   "metadata": {},
   "outputs": [],
   "source": []
  }
 ],
 "metadata": {
  "kernelspec": {
   "display_name": "base",
   "language": "python",
   "name": "python3"
  },
  "language_info": {
   "codemirror_mode": {
    "name": "ipython",
    "version": 3
   },
   "file_extension": ".py",
   "mimetype": "text/x-python",
   "name": "python",
   "nbconvert_exporter": "python",
   "pygments_lexer": "ipython3",
   "version": "3.11.7"
  }
 },
 "nbformat": 4,
 "nbformat_minor": 5
}
